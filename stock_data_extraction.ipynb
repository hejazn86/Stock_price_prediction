{
  "nbformat": 4,
  "nbformat_minor": 0,
  "metadata": {
    "colab": {
      "provenance": [],
      "authorship_tag": "ABX9TyMFXhN3nIjO8tn31c95OroI",
      "include_colab_link": true
    },
    "kernelspec": {
      "name": "python3",
      "display_name": "Python 3"
    },
    "language_info": {
      "name": "python"
    }
  },
  "cells": [
    {
      "cell_type": "markdown",
      "metadata": {
        "id": "view-in-github",
        "colab_type": "text"
      },
      "source": [
        "<a href=\"https://colab.research.google.com/github/hejazn86/Stock_price_prediction/blob/main/stock_data_extraction.ipynb\" target=\"_parent\"><img src=\"https://colab.research.google.com/assets/colab-badge.svg\" alt=\"Open In Colab\"/></a>"
      ]
    },
    {
      "cell_type": "markdown",
      "source": [
        "**Extracting Stock data from Yahoo API**"
      ],
      "metadata": {
        "id": "uuN8lmaylbrW"
      }
    },
    {
      "cell_type": "code",
      "execution_count": 3,
      "metadata": {
        "colab": {
          "base_uri": "https://localhost:8080/"
        },
        "id": "GBEMscSninEb",
        "outputId": "c4cca178-caf3-463f-d55a-41d169d024a7"
      },
      "outputs": [
        {
          "output_type": "stream",
          "name": "stderr",
          "text": [
            "\r[*********************100%%**********************]  1 of 1 completed\n"
          ]
        },
        {
          "output_type": "execute_result",
          "data": {
            "text/plain": [
              "2633"
            ]
          },
          "metadata": {},
          "execution_count": 3
        }
      ],
      "source": [
        "#!pip install yfinance\n",
        "import yfinance as yf\n",
        "\n",
        "# Define the stock ticker and date range\n",
        "ticker = 'AAPL'\n",
        "start_date = '2014-01-01'\n",
        "end_date = '2024-06-20'\n",
        "\n",
        "# Fetch historical stock data of specific company (Apple)\n",
        "stock_data = yf.download(ticker, start=start_date, end=end_date)\n",
        "\n",
        "# Save the data\n",
        "stock_data.to_csv('stock_price.csv')\n",
        "len(stock_data)"
      ]
    },
    {
      "cell_type": "markdown",
      "source": [
        "**Extracting Stock data using Alpha vantage API**"
      ],
      "metadata": {
        "id": "vNfBSt8Ollc9"
      }
    },
    {
      "cell_type": "code",
      "source": [
        "# Install and load Alpha Vantage API\n",
        "!pip install alpha_vantage\n",
        "from alpha_vantage.timeseries import TimeSeries\n",
        "import pandas as pd\n",
        "\n",
        "# Your API key\n",
        "api_key = 'WL313PFE45NS5WRT'\n",
        "\n",
        "# Initialize the TimeSeries class\n",
        "ts = TimeSeries(key=api_key, output_format='pandas')\n",
        "\n",
        "# Get historical data for a given ticker\n",
        "ticker = 'AAPL'\n",
        "data, meta_data = ts.get_daily(symbol=ticker, outputsize='full')\n",
        "\n",
        "data.to_csv('stock_vantage.csv')\n",
        "#print(data.head())\n",
        "len(data)"
      ],
      "metadata": {
        "colab": {
          "base_uri": "https://localhost:8080/"
        },
        "id": "YNhRMMEEjntX",
        "outputId": "339b7d8f-0769-472c-8a8d-cac92f95fa20"
      },
      "execution_count": 7,
      "outputs": [
        {
          "output_type": "stream",
          "name": "stdout",
          "text": [
            "Collecting alpha_vantage\n",
            "  Using cached alpha_vantage-2.3.1-py3-none-any.whl (31 kB)\n",
            "Requirement already satisfied: aiohttp in /usr/local/lib/python3.10/dist-packages (from alpha_vantage) (3.9.5)\n",
            "Requirement already satisfied: requests in /usr/local/lib/python3.10/dist-packages (from alpha_vantage) (2.31.0)\n",
            "Requirement already satisfied: aiosignal>=1.1.2 in /usr/local/lib/python3.10/dist-packages (from aiohttp->alpha_vantage) (1.3.1)\n",
            "Requirement already satisfied: attrs>=17.3.0 in /usr/local/lib/python3.10/dist-packages (from aiohttp->alpha_vantage) (23.2.0)\n",
            "Requirement already satisfied: frozenlist>=1.1.1 in /usr/local/lib/python3.10/dist-packages (from aiohttp->alpha_vantage) (1.4.1)\n",
            "Requirement already satisfied: multidict<7.0,>=4.5 in /usr/local/lib/python3.10/dist-packages (from aiohttp->alpha_vantage) (6.0.5)\n",
            "Requirement already satisfied: yarl<2.0,>=1.0 in /usr/local/lib/python3.10/dist-packages (from aiohttp->alpha_vantage) (1.9.4)\n",
            "Requirement already satisfied: async-timeout<5.0,>=4.0 in /usr/local/lib/python3.10/dist-packages (from aiohttp->alpha_vantage) (4.0.3)\n",
            "Requirement already satisfied: charset-normalizer<4,>=2 in /usr/local/lib/python3.10/dist-packages (from requests->alpha_vantage) (3.3.2)\n",
            "Requirement already satisfied: idna<4,>=2.5 in /usr/local/lib/python3.10/dist-packages (from requests->alpha_vantage) (3.7)\n",
            "Requirement already satisfied: urllib3<3,>=1.21.1 in /usr/local/lib/python3.10/dist-packages (from requests->alpha_vantage) (2.0.7)\n",
            "Requirement already satisfied: certifi>=2017.4.17 in /usr/local/lib/python3.10/dist-packages (from requests->alpha_vantage) (2024.6.2)\n",
            "Installing collected packages: alpha_vantage\n",
            "Successfully installed alpha_vantage-2.3.1\n"
          ]
        },
        {
          "output_type": "execute_result",
          "data": {
            "text/plain": [
              "6201"
            ]
          },
          "metadata": {},
          "execution_count": 7
        }
      ]
    },
    {
      "cell_type": "markdown",
      "source": [
        "**Data Processing and Feature Engineering**"
      ],
      "metadata": {
        "id": "I3d1oTKMEzva"
      }
    },
    {
      "cell_type": "code",
      "source": [
        "# Loading the data\n",
        "import pandas as pd\n",
        "import numpy as np\n",
        "\n",
        "stock_data = pd.read_csv('stock_price.csv')\n",
        "\n",
        "# check for missing values\n",
        "stock_data.isnull().sum()\n",
        "\n",
        "# Feature enginerring : extracting the year and the month\n",
        "stock_data['Date'] = pd.to_datetime(stock_data['Date'])\n",
        "stock_data.set_index('Date', inplace=True)\n",
        "stock_data['Year'] = stock_data.index.year\n",
        "stock_data['Month'] = stock_data.index.month\n",
        "\n",
        "# Calculate the Simple Moving average of the stocks\n",
        "stock_data['SMA_10'] = stock_data['Close'].rolling(window=10).mean()\n",
        "stock_data['SMA_100'] = stock_data['Close'].rolling(window=100).mean()\n",
        "\n",
        "# Calculating The Exponential Moving Average\n",
        "stock_data['EMA_10'] = stock_data['Close'].ewm(span= 10, adjust = False).mean()\n",
        "stock_data['EMA_100'] = stock_data['Close'].ewm(span=100, adjust=False).mean()\n",
        "\n",
        "# Calculate the Volatility (Annual)\n",
        "#stock_data['Range'] = stock_data['High'] - stock_data['Low']\n",
        "stock_data['Returns'] = stock_data['Close'].pct_change()\n",
        "stock_data['Volatility'] = stock_data['Returns'].rolling(window = 10).std()* np.sqrt(252)\n",
        "\n",
        "# Calculate Momentum Indicators: Relative Strength Index (RSI)\n",
        "def RelativeStrengthIndex (series, period=14):\n",
        "    delta = series.diff(1) # get the daily price change\n",
        "    gain = delta.where(delta > 0, 0)                    # create a series with only the positive price changes\n",
        "    loss = -delta.where(delta < 0, 0)                   # create a series with only the negative price changes\n",
        "    avg_gain = gain.rolling(window=period).mean()       #calculate the moving average for the positive changes\n",
        "    avg_loss = loss.rolling(window=period).mean()       # calculate the moving average for the negative changes\n",
        "    retrnStr = avg_gain / avg_loss                      # calulate the relative strength\n",
        "    retrnStridx = 100 - (100 / (1 + retrnStr))          # calculate the index\n",
        "    return retrnStridx\n",
        "\n",
        "stock_data['RSI_14'] = RelativeStrengthIndex(stock_data['Close'])\n",
        "\n",
        "\n",
        "#  Calculate Momentum Indicators: Moving Average Convergence Divergence (MACD)\n",
        "def MovingAverageConvergDiverg (series, shortPeriod=12, longPeriod=26, signalPeriod=9):\n",
        "  seriesEMA12 = series.ewm(span=shortPeriod, adjust=False).mean()\n",
        "  seriesEMA26 = series.ewm(span=longPeriod, adjust=False).mean()\n",
        "  MACD = seriesEMA12 - seriesEMA26\n",
        "  signalLine = MACD.ewm(span=signalPeriod, adjust=False).mean()\n",
        "  return MACD, signalLine\n",
        "\n",
        "\n",
        "MACD, SignalLine = MovingAverageConvergDiverg(stock_data['Close'])\n",
        "stock_data['MACD'] = MACD\n",
        "stock_data['SignalLine'] = SignalLine\n",
        "\n"
      ],
      "metadata": {
        "id": "vyv3y_WxFSzb"
      },
      "execution_count": 12,
      "outputs": []
    }
  ]
}